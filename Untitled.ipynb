{
 "cells": [
  {
   "cell_type": "markdown",
   "id": "dbda97e1",
   "metadata": {},
   "source": [
    "# Data Pre-processing"
   ]
  },
  {
   "cell_type": "markdown",
   "id": "fdd3ce18",
   "metadata": {},
   "source": [
    "## 1.Importing Required Libraries"
   ]
  },
  {
   "cell_type": "code",
   "execution_count": 1,
   "id": "da2d216e",
   "metadata": {},
   "outputs": [],
   "source": [
    "import pandas as pd\n",
    "import numpy as np\n",
    "from sklearn.preprocessing import MinMaxScaler\n",
    "from sklearn.metrics import confusion_matrix,accuracy_score\n",
    "import seaborn as sns"
   ]
  },
  {
   "cell_type": "markdown",
   "id": "0004f142",
   "metadata": {},
   "source": [
    "## 2.Read the dataset"
   ]
  },
  {
   "cell_type": "code",
   "execution_count": 2,
   "id": "43db0166",
   "metadata": {},
   "outputs": [
    {
     "data": {
      "text/html": [
       "<div>\n",
       "<style scoped>\n",
       "    .dataframe tbody tr th:only-of-type {\n",
       "        vertical-align: middle;\n",
       "    }\n",
       "\n",
       "    .dataframe tbody tr th {\n",
       "        vertical-align: top;\n",
       "    }\n",
       "\n",
       "    .dataframe thead th {\n",
       "        text-align: right;\n",
       "    }\n",
       "</style>\n",
       "<table border=\"1\" class=\"dataframe\">\n",
       "  <thead>\n",
       "    <tr style=\"text-align: right;\">\n",
       "      <th></th>\n",
       "      <th>index</th>\n",
       "      <th>having_IPhaving_IP_Address</th>\n",
       "      <th>URLURL_Length</th>\n",
       "      <th>Shortining_Service</th>\n",
       "      <th>having_At_Symbol</th>\n",
       "      <th>double_slash_redirecting</th>\n",
       "      <th>Prefix_Suffix</th>\n",
       "      <th>having_Sub_Domain</th>\n",
       "      <th>SSLfinal_State</th>\n",
       "      <th>Domain_registeration_length</th>\n",
       "      <th>...</th>\n",
       "      <th>popUpWidnow</th>\n",
       "      <th>Iframe</th>\n",
       "      <th>age_of_domain</th>\n",
       "      <th>DNSRecord</th>\n",
       "      <th>web_traffic</th>\n",
       "      <th>Page_Rank</th>\n",
       "      <th>Google_Index</th>\n",
       "      <th>Links_pointing_to_page</th>\n",
       "      <th>Statistical_report</th>\n",
       "      <th>Result</th>\n",
       "    </tr>\n",
       "  </thead>\n",
       "  <tbody>\n",
       "    <tr>\n",
       "      <th>0</th>\n",
       "      <td>1</td>\n",
       "      <td>-1</td>\n",
       "      <td>1</td>\n",
       "      <td>1</td>\n",
       "      <td>1</td>\n",
       "      <td>-1</td>\n",
       "      <td>-1</td>\n",
       "      <td>-1</td>\n",
       "      <td>-1</td>\n",
       "      <td>-1</td>\n",
       "      <td>...</td>\n",
       "      <td>1</td>\n",
       "      <td>1</td>\n",
       "      <td>-1</td>\n",
       "      <td>-1</td>\n",
       "      <td>-1</td>\n",
       "      <td>-1</td>\n",
       "      <td>1</td>\n",
       "      <td>1</td>\n",
       "      <td>-1</td>\n",
       "      <td>-1</td>\n",
       "    </tr>\n",
       "    <tr>\n",
       "      <th>1</th>\n",
       "      <td>2</td>\n",
       "      <td>1</td>\n",
       "      <td>1</td>\n",
       "      <td>1</td>\n",
       "      <td>1</td>\n",
       "      <td>1</td>\n",
       "      <td>-1</td>\n",
       "      <td>0</td>\n",
       "      <td>1</td>\n",
       "      <td>-1</td>\n",
       "      <td>...</td>\n",
       "      <td>1</td>\n",
       "      <td>1</td>\n",
       "      <td>-1</td>\n",
       "      <td>-1</td>\n",
       "      <td>0</td>\n",
       "      <td>-1</td>\n",
       "      <td>1</td>\n",
       "      <td>1</td>\n",
       "      <td>1</td>\n",
       "      <td>-1</td>\n",
       "    </tr>\n",
       "    <tr>\n",
       "      <th>2</th>\n",
       "      <td>3</td>\n",
       "      <td>1</td>\n",
       "      <td>0</td>\n",
       "      <td>1</td>\n",
       "      <td>1</td>\n",
       "      <td>1</td>\n",
       "      <td>-1</td>\n",
       "      <td>-1</td>\n",
       "      <td>-1</td>\n",
       "      <td>-1</td>\n",
       "      <td>...</td>\n",
       "      <td>1</td>\n",
       "      <td>1</td>\n",
       "      <td>1</td>\n",
       "      <td>-1</td>\n",
       "      <td>1</td>\n",
       "      <td>-1</td>\n",
       "      <td>1</td>\n",
       "      <td>0</td>\n",
       "      <td>-1</td>\n",
       "      <td>-1</td>\n",
       "    </tr>\n",
       "    <tr>\n",
       "      <th>3</th>\n",
       "      <td>4</td>\n",
       "      <td>1</td>\n",
       "      <td>0</td>\n",
       "      <td>1</td>\n",
       "      <td>1</td>\n",
       "      <td>1</td>\n",
       "      <td>-1</td>\n",
       "      <td>-1</td>\n",
       "      <td>-1</td>\n",
       "      <td>1</td>\n",
       "      <td>...</td>\n",
       "      <td>1</td>\n",
       "      <td>1</td>\n",
       "      <td>-1</td>\n",
       "      <td>-1</td>\n",
       "      <td>1</td>\n",
       "      <td>-1</td>\n",
       "      <td>1</td>\n",
       "      <td>-1</td>\n",
       "      <td>1</td>\n",
       "      <td>-1</td>\n",
       "    </tr>\n",
       "    <tr>\n",
       "      <th>4</th>\n",
       "      <td>5</td>\n",
       "      <td>1</td>\n",
       "      <td>0</td>\n",
       "      <td>-1</td>\n",
       "      <td>1</td>\n",
       "      <td>1</td>\n",
       "      <td>-1</td>\n",
       "      <td>1</td>\n",
       "      <td>1</td>\n",
       "      <td>-1</td>\n",
       "      <td>...</td>\n",
       "      <td>-1</td>\n",
       "      <td>1</td>\n",
       "      <td>-1</td>\n",
       "      <td>-1</td>\n",
       "      <td>0</td>\n",
       "      <td>-1</td>\n",
       "      <td>1</td>\n",
       "      <td>1</td>\n",
       "      <td>1</td>\n",
       "      <td>1</td>\n",
       "    </tr>\n",
       "  </tbody>\n",
       "</table>\n",
       "<p>5 rows × 32 columns</p>\n",
       "</div>"
      ],
      "text/plain": [
       "   index  having_IPhaving_IP_Address  URLURL_Length  Shortining_Service  \\\n",
       "0      1                          -1              1                   1   \n",
       "1      2                           1              1                   1   \n",
       "2      3                           1              0                   1   \n",
       "3      4                           1              0                   1   \n",
       "4      5                           1              0                  -1   \n",
       "\n",
       "   having_At_Symbol  double_slash_redirecting  Prefix_Suffix  \\\n",
       "0                 1                        -1             -1   \n",
       "1                 1                         1             -1   \n",
       "2                 1                         1             -1   \n",
       "3                 1                         1             -1   \n",
       "4                 1                         1             -1   \n",
       "\n",
       "   having_Sub_Domain  SSLfinal_State  Domain_registeration_length  ...  \\\n",
       "0                 -1              -1                           -1  ...   \n",
       "1                  0               1                           -1  ...   \n",
       "2                 -1              -1                           -1  ...   \n",
       "3                 -1              -1                            1  ...   \n",
       "4                  1               1                           -1  ...   \n",
       "\n",
       "   popUpWidnow  Iframe  age_of_domain  DNSRecord  web_traffic  Page_Rank  \\\n",
       "0            1       1             -1         -1           -1         -1   \n",
       "1            1       1             -1         -1            0         -1   \n",
       "2            1       1              1         -1            1         -1   \n",
       "3            1       1             -1         -1            1         -1   \n",
       "4           -1       1             -1         -1            0         -1   \n",
       "\n",
       "   Google_Index  Links_pointing_to_page  Statistical_report  Result  \n",
       "0             1                       1                  -1      -1  \n",
       "1             1                       1                   1      -1  \n",
       "2             1                       0                  -1      -1  \n",
       "3             1                      -1                   1      -1  \n",
       "4             1                       1                   1       1  \n",
       "\n",
       "[5 rows x 32 columns]"
      ]
     },
     "execution_count": 2,
     "metadata": {},
     "output_type": "execute_result"
    }
   ],
   "source": [
    "#import dataset\n",
    "data=pd.read_csv(\"data.csv\")\n",
    "data.head()"
   ]
  },
  {
   "cell_type": "code",
   "execution_count": 3,
   "id": "88aaa2a1",
   "metadata": {},
   "outputs": [
    {
     "name": "stdout",
     "output_type": "stream",
     "text": [
      "[[-1  1  1 ...  1  1 -1]\n",
      " [ 1  1  1 ...  1  1  1]\n",
      " [ 1  0  1 ...  1  0 -1]\n",
      " ...\n",
      " [ 1 -1  1 ...  1  0  1]\n",
      " [-1 -1  1 ...  1  1  1]\n",
      " [-1 -1  1 ... -1  1 -1]] [-1 -1 -1 ... -1 -1 -1]\n"
     ]
    }
   ],
   "source": [
    "#Splitting data as independent and dependent\n",
    "#removing index column in independent dataset\n",
    "x=data.iloc[:,1:31].values\n",
    "y=data.iloc[:,-1].values\n",
    "print(x,y)"
   ]
  },
  {
   "cell_type": "code",
   "execution_count": 4,
   "id": "bce2321e",
   "metadata": {},
   "outputs": [],
   "source": [
    "from sklearn.model_selection import train_test_split\n",
    "x_train,x_test,y_train,y_test=train_test_split(x,y,test_size=0.2,random_state=0)"
   ]
  },
  {
   "cell_type": "code",
   "execution_count": 5,
   "id": "81110dd7",
   "metadata": {},
   "outputs": [
    {
     "data": {
      "text/plain": [
       "(11055, 32)"
      ]
     },
     "execution_count": 5,
     "metadata": {},
     "output_type": "execute_result"
    }
   ],
   "source": [
    "data.shape"
   ]
  },
  {
   "cell_type": "code",
   "execution_count": 6,
   "id": "74e392dd",
   "metadata": {},
   "outputs": [
    {
     "data": {
      "text/plain": [
       "353760"
      ]
     },
     "execution_count": 6,
     "metadata": {},
     "output_type": "execute_result"
    }
   ],
   "source": [
    "data.size"
   ]
  },
  {
   "cell_type": "markdown",
   "id": "e1cef0a9",
   "metadata": {},
   "source": [
    "## 3.Handling null values"
   ]
  },
  {
   "cell_type": "code",
   "execution_count": 7,
   "id": "d8565452",
   "metadata": {},
   "outputs": [
    {
     "name": "stdout",
     "output_type": "stream",
     "text": [
      "<class 'pandas.core.frame.DataFrame'>\n",
      "RangeIndex: 11055 entries, 0 to 11054\n",
      "Data columns (total 32 columns):\n",
      " #   Column                       Non-Null Count  Dtype\n",
      "---  ------                       --------------  -----\n",
      " 0   index                        11055 non-null  int64\n",
      " 1   having_IPhaving_IP_Address   11055 non-null  int64\n",
      " 2   URLURL_Length                11055 non-null  int64\n",
      " 3   Shortining_Service           11055 non-null  int64\n",
      " 4   having_At_Symbol             11055 non-null  int64\n",
      " 5   double_slash_redirecting     11055 non-null  int64\n",
      " 6   Prefix_Suffix                11055 non-null  int64\n",
      " 7   having_Sub_Domain            11055 non-null  int64\n",
      " 8   SSLfinal_State               11055 non-null  int64\n",
      " 9   Domain_registeration_length  11055 non-null  int64\n",
      " 10  Favicon                      11055 non-null  int64\n",
      " 11  port                         11055 non-null  int64\n",
      " 12  HTTPS_token                  11055 non-null  int64\n",
      " 13  Request_URL                  11055 non-null  int64\n",
      " 14  URL_of_Anchor                11055 non-null  int64\n",
      " 15  Links_in_tags                11055 non-null  int64\n",
      " 16  SFH                          11055 non-null  int64\n",
      " 17  Submitting_to_email          11055 non-null  int64\n",
      " 18  Abnormal_URL                 11055 non-null  int64\n",
      " 19  Redirect                     11055 non-null  int64\n",
      " 20  on_mouseover                 11055 non-null  int64\n",
      " 21  RightClick                   11055 non-null  int64\n",
      " 22  popUpWidnow                  11055 non-null  int64\n",
      " 23  Iframe                       11055 non-null  int64\n",
      " 24  age_of_domain                11055 non-null  int64\n",
      " 25  DNSRecord                    11055 non-null  int64\n",
      " 26  web_traffic                  11055 non-null  int64\n",
      " 27  Page_Rank                    11055 non-null  int64\n",
      " 28  Google_Index                 11055 non-null  int64\n",
      " 29  Links_pointing_to_page       11055 non-null  int64\n",
      " 30  Statistical_report           11055 non-null  int64\n",
      " 31  Result                       11055 non-null  int64\n",
      "dtypes: int64(32)\n",
      "memory usage: 2.7 MB\n"
     ]
    },
    {
     "data": {
      "text/plain": [
       "index                          False\n",
       "having_IPhaving_IP_Address     False\n",
       "URLURL_Length                  False\n",
       "Shortining_Service             False\n",
       "having_At_Symbol               False\n",
       "double_slash_redirecting       False\n",
       "Prefix_Suffix                  False\n",
       "having_Sub_Domain              False\n",
       "SSLfinal_State                 False\n",
       "Domain_registeration_length    False\n",
       "Favicon                        False\n",
       "port                           False\n",
       "HTTPS_token                    False\n",
       "Request_URL                    False\n",
       "URL_of_Anchor                  False\n",
       "Links_in_tags                  False\n",
       "SFH                            False\n",
       "Submitting_to_email            False\n",
       "Abnormal_URL                   False\n",
       "Redirect                       False\n",
       "on_mouseover                   False\n",
       "RightClick                     False\n",
       "popUpWidnow                    False\n",
       "Iframe                         False\n",
       "age_of_domain                  False\n",
       "DNSRecord                      False\n",
       "web_traffic                    False\n",
       "Page_Rank                      False\n",
       "Google_Index                   False\n",
       "Links_pointing_to_page         False\n",
       "Statistical_report             False\n",
       "Result                         False\n",
       "dtype: bool"
      ]
     },
     "execution_count": 7,
     "metadata": {},
     "output_type": "execute_result"
    }
   ],
   "source": [
    "#Analysing the data using pandas and checking if the dataset contains any null values.\n",
    "data.info()\n",
    "data.isnull().any() #no nullvalues"
   ]
  },
  {
   "cell_type": "code",
   "execution_count": 8,
   "id": "aee69294",
   "metadata": {},
   "outputs": [
    {
     "data": {
      "text/html": [
       "<div>\n",
       "<style scoped>\n",
       "    .dataframe tbody tr th:only-of-type {\n",
       "        vertical-align: middle;\n",
       "    }\n",
       "\n",
       "    .dataframe tbody tr th {\n",
       "        vertical-align: top;\n",
       "    }\n",
       "\n",
       "    .dataframe thead th {\n",
       "        text-align: right;\n",
       "    }\n",
       "</style>\n",
       "<table border=\"1\" class=\"dataframe\">\n",
       "  <thead>\n",
       "    <tr style=\"text-align: right;\">\n",
       "      <th></th>\n",
       "      <th>index</th>\n",
       "      <th>having_IPhaving_IP_Address</th>\n",
       "      <th>URLURL_Length</th>\n",
       "      <th>Shortining_Service</th>\n",
       "      <th>having_At_Symbol</th>\n",
       "      <th>double_slash_redirecting</th>\n",
       "      <th>Prefix_Suffix</th>\n",
       "      <th>having_Sub_Domain</th>\n",
       "      <th>SSLfinal_State</th>\n",
       "      <th>Domain_registeration_length</th>\n",
       "      <th>...</th>\n",
       "      <th>popUpWidnow</th>\n",
       "      <th>Iframe</th>\n",
       "      <th>age_of_domain</th>\n",
       "      <th>DNSRecord</th>\n",
       "      <th>web_traffic</th>\n",
       "      <th>Page_Rank</th>\n",
       "      <th>Google_Index</th>\n",
       "      <th>Links_pointing_to_page</th>\n",
       "      <th>Statistical_report</th>\n",
       "      <th>Result</th>\n",
       "    </tr>\n",
       "  </thead>\n",
       "  <tbody>\n",
       "    <tr>\n",
       "      <th>count</th>\n",
       "      <td>11055.000000</td>\n",
       "      <td>11055.000000</td>\n",
       "      <td>11055.000000</td>\n",
       "      <td>11055.000000</td>\n",
       "      <td>11055.000000</td>\n",
       "      <td>11055.000000</td>\n",
       "      <td>11055.000000</td>\n",
       "      <td>11055.000000</td>\n",
       "      <td>11055.000000</td>\n",
       "      <td>11055.000000</td>\n",
       "      <td>...</td>\n",
       "      <td>11055.000000</td>\n",
       "      <td>11055.000000</td>\n",
       "      <td>11055.000000</td>\n",
       "      <td>11055.000000</td>\n",
       "      <td>11055.000000</td>\n",
       "      <td>11055.000000</td>\n",
       "      <td>11055.000000</td>\n",
       "      <td>11055.000000</td>\n",
       "      <td>11055.000000</td>\n",
       "      <td>11055.000000</td>\n",
       "    </tr>\n",
       "    <tr>\n",
       "      <th>mean</th>\n",
       "      <td>5528.000000</td>\n",
       "      <td>0.313795</td>\n",
       "      <td>-0.633198</td>\n",
       "      <td>0.738761</td>\n",
       "      <td>0.700588</td>\n",
       "      <td>0.741474</td>\n",
       "      <td>-0.734962</td>\n",
       "      <td>0.063953</td>\n",
       "      <td>0.250927</td>\n",
       "      <td>-0.336771</td>\n",
       "      <td>...</td>\n",
       "      <td>0.613388</td>\n",
       "      <td>0.816915</td>\n",
       "      <td>0.061239</td>\n",
       "      <td>0.377114</td>\n",
       "      <td>0.287291</td>\n",
       "      <td>-0.483673</td>\n",
       "      <td>0.721574</td>\n",
       "      <td>0.344007</td>\n",
       "      <td>0.719584</td>\n",
       "      <td>0.113885</td>\n",
       "    </tr>\n",
       "    <tr>\n",
       "      <th>std</th>\n",
       "      <td>3191.447947</td>\n",
       "      <td>0.949534</td>\n",
       "      <td>0.766095</td>\n",
       "      <td>0.673998</td>\n",
       "      <td>0.713598</td>\n",
       "      <td>0.671011</td>\n",
       "      <td>0.678139</td>\n",
       "      <td>0.817518</td>\n",
       "      <td>0.911892</td>\n",
       "      <td>0.941629</td>\n",
       "      <td>...</td>\n",
       "      <td>0.789818</td>\n",
       "      <td>0.576784</td>\n",
       "      <td>0.998168</td>\n",
       "      <td>0.926209</td>\n",
       "      <td>0.827733</td>\n",
       "      <td>0.875289</td>\n",
       "      <td>0.692369</td>\n",
       "      <td>0.569944</td>\n",
       "      <td>0.694437</td>\n",
       "      <td>0.993539</td>\n",
       "    </tr>\n",
       "    <tr>\n",
       "      <th>min</th>\n",
       "      <td>1.000000</td>\n",
       "      <td>-1.000000</td>\n",
       "      <td>-1.000000</td>\n",
       "      <td>-1.000000</td>\n",
       "      <td>-1.000000</td>\n",
       "      <td>-1.000000</td>\n",
       "      <td>-1.000000</td>\n",
       "      <td>-1.000000</td>\n",
       "      <td>-1.000000</td>\n",
       "      <td>-1.000000</td>\n",
       "      <td>...</td>\n",
       "      <td>-1.000000</td>\n",
       "      <td>-1.000000</td>\n",
       "      <td>-1.000000</td>\n",
       "      <td>-1.000000</td>\n",
       "      <td>-1.000000</td>\n",
       "      <td>-1.000000</td>\n",
       "      <td>-1.000000</td>\n",
       "      <td>-1.000000</td>\n",
       "      <td>-1.000000</td>\n",
       "      <td>-1.000000</td>\n",
       "    </tr>\n",
       "    <tr>\n",
       "      <th>25%</th>\n",
       "      <td>2764.500000</td>\n",
       "      <td>-1.000000</td>\n",
       "      <td>-1.000000</td>\n",
       "      <td>1.000000</td>\n",
       "      <td>1.000000</td>\n",
       "      <td>1.000000</td>\n",
       "      <td>-1.000000</td>\n",
       "      <td>-1.000000</td>\n",
       "      <td>-1.000000</td>\n",
       "      <td>-1.000000</td>\n",
       "      <td>...</td>\n",
       "      <td>1.000000</td>\n",
       "      <td>1.000000</td>\n",
       "      <td>-1.000000</td>\n",
       "      <td>-1.000000</td>\n",
       "      <td>0.000000</td>\n",
       "      <td>-1.000000</td>\n",
       "      <td>1.000000</td>\n",
       "      <td>0.000000</td>\n",
       "      <td>1.000000</td>\n",
       "      <td>-1.000000</td>\n",
       "    </tr>\n",
       "    <tr>\n",
       "      <th>50%</th>\n",
       "      <td>5528.000000</td>\n",
       "      <td>1.000000</td>\n",
       "      <td>-1.000000</td>\n",
       "      <td>1.000000</td>\n",
       "      <td>1.000000</td>\n",
       "      <td>1.000000</td>\n",
       "      <td>-1.000000</td>\n",
       "      <td>0.000000</td>\n",
       "      <td>1.000000</td>\n",
       "      <td>-1.000000</td>\n",
       "      <td>...</td>\n",
       "      <td>1.000000</td>\n",
       "      <td>1.000000</td>\n",
       "      <td>1.000000</td>\n",
       "      <td>1.000000</td>\n",
       "      <td>1.000000</td>\n",
       "      <td>-1.000000</td>\n",
       "      <td>1.000000</td>\n",
       "      <td>0.000000</td>\n",
       "      <td>1.000000</td>\n",
       "      <td>1.000000</td>\n",
       "    </tr>\n",
       "    <tr>\n",
       "      <th>75%</th>\n",
       "      <td>8291.500000</td>\n",
       "      <td>1.000000</td>\n",
       "      <td>-1.000000</td>\n",
       "      <td>1.000000</td>\n",
       "      <td>1.000000</td>\n",
       "      <td>1.000000</td>\n",
       "      <td>-1.000000</td>\n",
       "      <td>1.000000</td>\n",
       "      <td>1.000000</td>\n",
       "      <td>1.000000</td>\n",
       "      <td>...</td>\n",
       "      <td>1.000000</td>\n",
       "      <td>1.000000</td>\n",
       "      <td>1.000000</td>\n",
       "      <td>1.000000</td>\n",
       "      <td>1.000000</td>\n",
       "      <td>1.000000</td>\n",
       "      <td>1.000000</td>\n",
       "      <td>1.000000</td>\n",
       "      <td>1.000000</td>\n",
       "      <td>1.000000</td>\n",
       "    </tr>\n",
       "    <tr>\n",
       "      <th>max</th>\n",
       "      <td>11055.000000</td>\n",
       "      <td>1.000000</td>\n",
       "      <td>1.000000</td>\n",
       "      <td>1.000000</td>\n",
       "      <td>1.000000</td>\n",
       "      <td>1.000000</td>\n",
       "      <td>1.000000</td>\n",
       "      <td>1.000000</td>\n",
       "      <td>1.000000</td>\n",
       "      <td>1.000000</td>\n",
       "      <td>...</td>\n",
       "      <td>1.000000</td>\n",
       "      <td>1.000000</td>\n",
       "      <td>1.000000</td>\n",
       "      <td>1.000000</td>\n",
       "      <td>1.000000</td>\n",
       "      <td>1.000000</td>\n",
       "      <td>1.000000</td>\n",
       "      <td>1.000000</td>\n",
       "      <td>1.000000</td>\n",
       "      <td>1.000000</td>\n",
       "    </tr>\n",
       "  </tbody>\n",
       "</table>\n",
       "<p>8 rows × 32 columns</p>\n",
       "</div>"
      ],
      "text/plain": [
       "              index  having_IPhaving_IP_Address  URLURL_Length  \\\n",
       "count  11055.000000                11055.000000   11055.000000   \n",
       "mean    5528.000000                    0.313795      -0.633198   \n",
       "std     3191.447947                    0.949534       0.766095   \n",
       "min        1.000000                   -1.000000      -1.000000   \n",
       "25%     2764.500000                   -1.000000      -1.000000   \n",
       "50%     5528.000000                    1.000000      -1.000000   \n",
       "75%     8291.500000                    1.000000      -1.000000   \n",
       "max    11055.000000                    1.000000       1.000000   \n",
       "\n",
       "       Shortining_Service  having_At_Symbol  double_slash_redirecting  \\\n",
       "count        11055.000000      11055.000000              11055.000000   \n",
       "mean             0.738761          0.700588                  0.741474   \n",
       "std              0.673998          0.713598                  0.671011   \n",
       "min             -1.000000         -1.000000                 -1.000000   \n",
       "25%              1.000000          1.000000                  1.000000   \n",
       "50%              1.000000          1.000000                  1.000000   \n",
       "75%              1.000000          1.000000                  1.000000   \n",
       "max              1.000000          1.000000                  1.000000   \n",
       "\n",
       "       Prefix_Suffix  having_Sub_Domain  SSLfinal_State  \\\n",
       "count   11055.000000       11055.000000    11055.000000   \n",
       "mean       -0.734962           0.063953        0.250927   \n",
       "std         0.678139           0.817518        0.911892   \n",
       "min        -1.000000          -1.000000       -1.000000   \n",
       "25%        -1.000000          -1.000000       -1.000000   \n",
       "50%        -1.000000           0.000000        1.000000   \n",
       "75%        -1.000000           1.000000        1.000000   \n",
       "max         1.000000           1.000000        1.000000   \n",
       "\n",
       "       Domain_registeration_length  ...   popUpWidnow        Iframe  \\\n",
       "count                 11055.000000  ...  11055.000000  11055.000000   \n",
       "mean                     -0.336771  ...      0.613388      0.816915   \n",
       "std                       0.941629  ...      0.789818      0.576784   \n",
       "min                      -1.000000  ...     -1.000000     -1.000000   \n",
       "25%                      -1.000000  ...      1.000000      1.000000   \n",
       "50%                      -1.000000  ...      1.000000      1.000000   \n",
       "75%                       1.000000  ...      1.000000      1.000000   \n",
       "max                       1.000000  ...      1.000000      1.000000   \n",
       "\n",
       "       age_of_domain     DNSRecord   web_traffic     Page_Rank  Google_Index  \\\n",
       "count   11055.000000  11055.000000  11055.000000  11055.000000  11055.000000   \n",
       "mean        0.061239      0.377114      0.287291     -0.483673      0.721574   \n",
       "std         0.998168      0.926209      0.827733      0.875289      0.692369   \n",
       "min        -1.000000     -1.000000     -1.000000     -1.000000     -1.000000   \n",
       "25%        -1.000000     -1.000000      0.000000     -1.000000      1.000000   \n",
       "50%         1.000000      1.000000      1.000000     -1.000000      1.000000   \n",
       "75%         1.000000      1.000000      1.000000      1.000000      1.000000   \n",
       "max         1.000000      1.000000      1.000000      1.000000      1.000000   \n",
       "\n",
       "       Links_pointing_to_page  Statistical_report        Result  \n",
       "count            11055.000000        11055.000000  11055.000000  \n",
       "mean                 0.344007            0.719584      0.113885  \n",
       "std                  0.569944            0.694437      0.993539  \n",
       "min                 -1.000000           -1.000000     -1.000000  \n",
       "25%                  0.000000            1.000000     -1.000000  \n",
       "50%                  0.000000            1.000000      1.000000  \n",
       "75%                  1.000000            1.000000      1.000000  \n",
       "max                  1.000000            1.000000      1.000000  \n",
       "\n",
       "[8 rows x 32 columns]"
      ]
     },
     "execution_count": 8,
     "metadata": {},
     "output_type": "execute_result"
    }
   ],
   "source": [
    "data.describe()"
   ]
  },
  {
   "cell_type": "markdown",
   "id": "a670ba56",
   "metadata": {},
   "source": [
    "## 4.Splitting the Data"
   ]
  },
  {
   "cell_type": "code",
   "execution_count": 9,
   "id": "a5ea3ea5",
   "metadata": {},
   "outputs": [],
   "source": [
    "from sklearn.model_selection import train_test_split\n",
    "x_train,x_test,y_train,y_test=train_test_split(x,y,test_size=0.2,random_state=0)\n",
    "\n",
    "from sklearn.preprocessing import StandardScaler    \n",
    "st_x= StandardScaler()    \n",
    "x_train= st_x.fit_transform(x_train)    \n",
    "x_test= st_x.transform(x_test)  "
   ]
  },
  {
   "cell_type": "markdown",
   "id": "e50cd45b",
   "metadata": {},
   "source": [
    "## 5.Model Building"
   ]
  },
  {
   "cell_type": "code",
   "execution_count": 10,
   "id": "9d8dc4ea",
   "metadata": {},
   "outputs": [],
   "source": [
    "from sklearn.metrics import accuracy_score, classification_report"
   ]
  },
  {
   "cell_type": "code",
   "execution_count": 11,
   "id": "d68d3969",
   "metadata": {},
   "outputs": [
    {
     "data": {
      "text/plain": [
       "DecisionTreeClassifier()"
      ]
     },
     "execution_count": 11,
     "metadata": {},
     "output_type": "execute_result"
    }
   ],
   "source": [
    "from sklearn.tree import DecisionTreeClassifier\n",
    "\n",
    "dt=DecisionTreeClassifier()\n",
    "\n",
    "dt.fit(x_train,y_train)"
   ]
  },
  {
   "cell_type": "code",
   "execution_count": 12,
   "id": "eec1949a",
   "metadata": {},
   "outputs": [],
   "source": [
    "prediction_dt = dt.predict(x_test)\n",
    "\n",
    "accuracy_dt = accuracy_score(y_test,prediction_dt)*100\n",
    "scores_dict = {}\n"
   ]
  },
  {
   "cell_type": "code",
   "execution_count": 13,
   "id": "e674afad",
   "metadata": {},
   "outputs": [
    {
     "name": "stdout",
     "output_type": "stream",
     "text": [
      "Accuracy score :  96.33649932157394\n",
      "              precision    recall  f1-score   support\n",
      "\n",
      "          -1       0.97      0.95      0.96      1014\n",
      "           1       0.96      0.97      0.97      1197\n",
      "\n",
      "    accuracy                           0.96      2211\n",
      "   macro avg       0.96      0.96      0.96      2211\n",
      "weighted avg       0.96      0.96      0.96      2211\n",
      "\n"
     ]
    }
   ],
   "source": [
    "print('Accuracy score : ',accuracy_dt)\n",
    "scores_dict['DecisionTreeClassifier'] = accuracy_dt\n",
    "print(classification_report(y_test,prediction_dt))"
   ]
  },
  {
   "cell_type": "code",
   "execution_count": 14,
   "id": "8ed43e45",
   "metadata": {},
   "outputs": [
    {
     "data": {
      "text/plain": [
       "array([0.00594872, 0.00941347, 0.00267076, 0.00296056, 0.00301582,\n",
       "       0.0200516 , 0.03099088, 0.62671122, 0.01599199, 0.00447833,\n",
       "       0.00226956, 0.0035879 , 0.01048499, 0.1080365 , 0.03336392,\n",
       "       0.00970199, 0.00625162, 0.00162759, 0.00471569, 0.00284786,\n",
       "       0.00200185, 0.00176098, 0.00125538, 0.01506488, 0.0085426 ,\n",
       "       0.02851701, 0.00521645, 0.01025802, 0.01875505, 0.00350681])"
      ]
     },
     "execution_count": 14,
     "metadata": {},
     "output_type": "execute_result"
    }
   ],
   "source": [
    "dt.feature_importances_"
   ]
  },
  {
   "cell_type": "code",
   "execution_count": 15,
   "id": "7f7b62fd",
   "metadata": {},
   "outputs": [
    {
     "data": {
      "text/plain": [
       "RandomForestRegressor(n_estimators=20, random_state=0)"
      ]
     },
     "execution_count": 15,
     "metadata": {},
     "output_type": "execute_result"
    }
   ],
   "source": [
    "from sklearn.ensemble import RandomForestRegressor\n",
    "\n",
    "regressor = RandomForestRegressor(n_estimators=20, random_state=0)\n",
    "regressor.fit(x_train, y_train)"
   ]
  },
  {
   "cell_type": "code",
   "execution_count": 16,
   "id": "c81c525e",
   "metadata": {},
   "outputs": [
    {
     "data": {
      "text/plain": [
       "92.67299864314789"
      ]
     },
     "execution_count": 16,
     "metadata": {},
     "output_type": "execute_result"
    }
   ],
   "source": [
    "y_pred1=regressor.predict(x_test)\n",
    "from sklearn.metrics import accuracy_score\n",
    "RandomForestRegressor=accuracy_score(y_test,y_pred1.round())*100\n",
    "RandomForestRegressor "
   ]
  },
  {
   "cell_type": "code",
   "execution_count": 17,
   "id": "8c0c82d7",
   "metadata": {},
   "outputs": [],
   "source": [
    "scores_dict['RandomForestRegressor'] = RandomForestRegressor"
   ]
  },
  {
   "cell_type": "code",
   "execution_count": 18,
   "id": "932b560f",
   "metadata": {},
   "outputs": [
    {
     "data": {
      "text/plain": [
       "LogisticRegression()"
      ]
     },
     "execution_count": 18,
     "metadata": {},
     "output_type": "execute_result"
    }
   ],
   "source": [
    "from sklearn.linear_model import LogisticRegression\n",
    "lr=LogisticRegression()\n",
    "lr.fit(x_train,y_train)"
   ]
  },
  {
   "cell_type": "code",
   "execution_count": 19,
   "id": "004b0ca4",
   "metadata": {},
   "outputs": [
    {
     "data": {
      "text/plain": [
       "91.67797376752601"
      ]
     },
     "execution_count": 19,
     "metadata": {},
     "output_type": "execute_result"
    }
   ],
   "source": [
    "y_pred1=lr.predict(x_test)\n",
    "from sklearn.metrics import accuracy_score\n",
    "log_reg=accuracy_score(y_test,y_pred1)*100\n",
    "log_reg"
   ]
  },
  {
   "cell_type": "code",
   "execution_count": 20,
   "id": "01d917c4",
   "metadata": {},
   "outputs": [],
   "source": [
    "scores_dict['LogisticRegression'] = log_reg"
   ]
  },
  {
   "cell_type": "code",
   "execution_count": 21,
   "id": "ec1fd03b",
   "metadata": {},
   "outputs": [
    {
     "data": {
      "text/plain": [
       "RandomForestClassifier(criterion='entropy', n_estimators=10)"
      ]
     },
     "execution_count": 21,
     "metadata": {},
     "output_type": "execute_result"
    }
   ],
   "source": [
    "from sklearn.ensemble import RandomForestClassifier  \n",
    "classifier= RandomForestClassifier(n_estimators= 10, criterion=\"entropy\")  \n",
    "classifier.fit(x_train, y_train) \n"
   ]
  },
  {
   "cell_type": "code",
   "execution_count": 22,
   "id": "0319606c",
   "metadata": {},
   "outputs": [],
   "source": [
    "y_pred= classifier.predict(x_test) \n",
    "y_pred1= classifier.predict(x_test) "
   ]
  },
  {
   "cell_type": "code",
   "execution_count": 23,
   "id": "cd149aed",
   "metadata": {},
   "outputs": [
    {
     "data": {
      "text/plain": [
       "96.78878335594754"
      ]
     },
     "execution_count": 23,
     "metadata": {},
     "output_type": "execute_result"
    }
   ],
   "source": [
    "from sklearn.metrics import accuracy_score\n",
    "\n",
    "classifier_acc=accuracy_score(y_test,y_pred1.round())*100\n",
    "classifier_acc"
   ]
  },
  {
   "cell_type": "code",
   "execution_count": 24,
   "id": "0229750d",
   "metadata": {},
   "outputs": [],
   "source": [
    "scores_dict['RandomForestClassifier'] = classifier_acc"
   ]
  },
  {
   "cell_type": "markdown",
   "id": "18ac8981",
   "metadata": {},
   "source": [
    "## 1) Choosing appropriate model"
   ]
  },
  {
   "cell_type": "code",
   "execution_count": 25,
   "id": "47ab5187",
   "metadata": {},
   "outputs": [
    {
     "data": {
      "image/png": "[encoded data removed]",
      "text/plain": [
       "<Figure size 892.8x468 with 1 Axes>"
      ]
     },
     "metadata": {},
     "output_type": "display_data"
    }
   ],
   "source": [
    "algo_name = list(scores_dict.keys())\n",
    "accuracy_list = list(scores_dict.values())\n",
    "\n",
    "\n",
    "sns.set(rc={'figure.figsize':(12.4,6.5)})\n",
    "with sns.color_palette('muted'):\n",
    "    sns.barplot(x=algo_name,y=accuracy_list)"
   ]
  },
  {
   "cell_type": "markdown",
   "id": "6b0f9149",
   "metadata": {},
   "source": [
    "## Saving the trained model"
   ]
  },
  {
   "cell_type": "code",
   "execution_count": 26,
   "id": "24d96586",
   "metadata": {},
   "outputs": [],
   "source": [
    "import pickle \n",
    "pickle.dump(dt, open('Phishing_Website.pkl','wb'))"
   ]
  },
  {
   "cell_type": "code",
   "execution_count": null,
   "id": "6998ed5f",
   "metadata": {},
   "outputs": [],
   "source": []
  },
  {
   "cell_type": "code",
   "execution_count": null,
   "id": "3d73cbcf",
   "metadata": {},
   "outputs": [],
   "source": []
  },
  {
   "cell_type": "code",
   "execution_count": null,
   "id": "c2fb7435",
   "metadata": {},
   "outputs": [],
   "source": []
  },
  {
   "cell_type": "code",
   "execution_count": null,
   "id": "44aaef8e",
   "metadata": {},
   "outputs": [],
   "source": []
  },
  {
   "cell_type": "code",
   "execution_count": null,
   "id": "84f5b076",
   "metadata": {},
   "outputs": [],
   "source": []
  },
  {
   "cell_type": "code",
   "execution_count": null,
   "id": "fe178fbf",
   "metadata": {},
   "outputs": [],
   "source": []
  },
  {
   "cell_type": "code",
   "execution_count": null,
   "id": "0b147900",
   "metadata": {},
   "outputs": [],
   "source": []
  },
  {
   "cell_type": "code",
   "execution_count": null,
   "id": "0b4a55dc",
   "metadata": {},
   "outputs": [],
   "source": []
  },
  {
   "cell_type": "code",
   "execution_count": null,
   "id": "cc9ca2ea",
   "metadata": {},
   "outputs": [],
   "source": []
  },
  {
   "cell_type": "code",
   "execution_count": null,
   "id": "d88371fa",
   "metadata": {},
   "outputs": [],
   "source": []
  },
  {
   "cell_type": "code",
   "execution_count": null,
   "id": "692fe4fa",
   "metadata": {},
   "outputs": [],
   "source": []
  },
  {
   "cell_type": "code",
   "execution_count": null,
   "id": "f7ad53aa",
   "metadata": {},
   "outputs": [],
   "source": []
  },
  {
   "cell_type": "code",
   "execution_count": null,
   "id": "45ef6227",
   "metadata": {},
   "outputs": [],
   "source": []
  },
  {
   "cell_type": "code",
   "execution_count": null,
   "id": "825bcc09",
   "metadata": {},
   "outputs": [],
   "source": []
  },
  {
   "cell_type": "code",
   "execution_count": null,
   "id": "c609b488",
   "metadata": {},
   "outputs": [],
   "source": []
  },
  {
   "cell_type": "code",
   "execution_count": null,
   "id": "0f402ed7",
   "metadata": {},
   "outputs": [],
   "source": []
  },
  {
   "cell_type": "code",
   "execution_count": null,
   "id": "b49edb98",
   "metadata": {},
   "outputs": [],
   "source": []
  },
  {
   "cell_type": "code",
   "execution_count": null,
   "id": "a987d5e2",
   "metadata": {},
   "outputs": [],
   "source": []
  },
  {
   "cell_type": "code",
   "execution_count": null,
   "id": "27e904f9",
   "metadata": {},
   "outputs": [],
   "source": []
  },
  {
   "cell_type": "code",
   "execution_count": null,
   "id": "bd5d22b2",
   "metadata": {},
   "outputs": [],
   "source": []
  },
  {
   "cell_type": "code",
   "execution_count": null,
   "id": "8b04382b",
   "metadata": {},
   "outputs": [],
   "source": []
  },
  {
   "cell_type": "code",
   "execution_count": null,
   "id": "571da535",
   "metadata": {},
   "outputs": [],
   "source": []
  },
  {
   "cell_type": "code",
   "execution_count": null,
   "id": "1328b002",
   "metadata": {},
   "outputs": [],
   "source": []
  },
  {
   "cell_type": "code",
   "execution_count": null,
   "id": "5b14ba99",
   "metadata": {},
   "outputs": [],
   "source": []
  },
  {
   "cell_type": "code",
   "execution_count": null,
   "id": "045599c0",
   "metadata": {},
   "outputs": [],
   "source": []
  },
  {
   "cell_type": "code",
   "execution_count": null,
   "id": "1209ac57",
   "metadata": {},
   "outputs": [],
   "source": []
  },
  {
   "cell_type": "code",
   "execution_count": null,
   "id": "61a0a789",
   "metadata": {},
   "outputs": [],
   "source": []
  },
  {
   "cell_type": "code",
   "execution_count": null,
   "id": "ce4f9097",
   "metadata": {},
   "outputs": [],
   "source": []
  },
  {
   "cell_type": "code",
   "execution_count": null,
   "id": "702654e3",
   "metadata": {},
   "outputs": [],
   "source": []
  },
  {
   "cell_type": "code",
   "execution_count": null,
   "id": "e6c48eb2",
   "metadata": {},
   "outputs": [],
   "source": []
  },
  {
   "cell_type": "code",
   "execution_count": null,
   "id": "a06a25b6",
   "metadata": {},
   "outputs": [],
   "source": []
  },
  {
   "cell_type": "code",
   "execution_count": null,
   "id": "e2bf55f8",
   "metadata": {},
   "outputs": [],
   "source": []
  },
  {
   "cell_type": "code",
   "execution_count": null,
   "id": "c1a5d9a3",
   "metadata": {},
   "outputs": [],
   "source": []
  },
  {
   "cell_type": "code",
   "execution_count": null,
   "id": "6ad00d7f",
   "metadata": {},
   "outputs": [],
   "source": []
  },
  {
   "cell_type": "code",
   "execution_count": null,
   "id": "20460979",
   "metadata": {},
   "outputs": [],
   "source": []
  },
  {
   "cell_type": "code",
   "execution_count": null,
   "id": "46af3de5",
   "metadata": {},
   "outputs": [],
   "source": []
  },
  {
   "cell_type": "code",
   "execution_count": null,
   "id": "5267cad3",
   "metadata": {},
   "outputs": [],
   "source": []
  },
  {
   "cell_type": "code",
   "execution_count": null,
   "id": "9e740c3e",
   "metadata": {},
   "outputs": [],
   "source": []
  },
  {
   "cell_type": "code",
   "execution_count": null,
   "id": "7e38bf7e",
   "metadata": {},
   "outputs": [],
   "source": []
  },
  {
   "cell_type": "code",
   "execution_count": null,
   "id": "bc2a3b1f",
   "metadata": {},
   "outputs": [],
   "source": []
  },
  {
   "cell_type": "code",
   "execution_count": null,
   "id": "a549b541",
   "metadata": {},
   "outputs": [],
   "source": []
  },
  {
   "cell_type": "code",
   "execution_count": null,
   "id": "527ba3ba",
   "metadata": {},
   "outputs": [],
   "source": []
  },
  {
   "cell_type": "code",
   "execution_count": null,
   "id": "9d52d2e3",
   "metadata": {},
   "outputs": [],
   "source": []
  },
  {
   "cell_type": "code",
   "execution_count": null,
   "id": "f27dd767",
   "metadata": {},
   "outputs": [],
   "source": []
  },
  {
   "cell_type": "code",
   "execution_count": null,
   "id": "e88bc839",
   "metadata": {},
   "outputs": [],
   "source": []
  },
  {
   "cell_type": "code",
   "execution_count": null,
   "id": "092f244d",
   "metadata": {},
   "outputs": [],
   "source": []
  },
  {
   "cell_type": "code",
   "execution_count": null,
   "id": "a965e94d",
   "metadata": {},
   "outputs": [],
   "source": []
  },
  {
   "cell_type": "code",
   "execution_count": null,
   "id": "f9a1c961",
   "metadata": {},
   "outputs": [],
   "source": []
  },
  {
   "cell_type": "code",
   "execution_count": null,
   "id": "59993d28",
   "metadata": {},
   "outputs": [],
   "source": []
  },
  {
   "cell_type": "code",
   "execution_count": null,
   "id": "b3e6177f",
   "metadata": {},
   "outputs": [],
   "source": []
  },
  {
   "cell_type": "code",
   "execution_count": null,
   "id": "ed88fb13",
   "metadata": {},
   "outputs": [],
   "source": []
  },
  {
   "cell_type": "code",
   "execution_count": null,
   "id": "26686f96",
   "metadata": {},
   "outputs": [],
   "source": []
  },
  {
   "cell_type": "code",
   "execution_count": null,
   "id": "cd0f701a",
   "metadata": {},
   "outputs": [],
   "source": []
  },
  {
   "cell_type": "code",
   "execution_count": null,
   "id": "22301078",
   "metadata": {},
   "outputs": [],
   "source": []
  },
  {
   "cell_type": "code",
   "execution_count": null,
   "id": "a3ce3005",
   "metadata": {},
   "outputs": [],
   "source": []
  },
  {
   "cell_type": "code",
   "execution_count": null,
   "id": "96211d43",
   "metadata": {},
   "outputs": [],
   "source": []
  },
  {
   "cell_type": "code",
   "execution_count": null,
   "id": "9d717e33",
   "metadata": {},
   "outputs": [],
   "source": []
  },
  {
   "cell_type": "code",
   "execution_count": null,
   "id": "6ec39845",
   "metadata": {},
   "outputs": [],
   "source": []
  },
  {
   "cell_type": "code",
   "execution_count": null,
   "id": "bd72b0db",
   "metadata": {},
   "outputs": [],
   "source": []
  },
  {
   "cell_type": "code",
   "execution_count": null,
   "id": "103875f3",
   "metadata": {},
   "outputs": [],
   "source": []
  },
  {
   "cell_type": "code",
   "execution_count": null,
   "id": "29199be2",
   "metadata": {},
   "outputs": [],
   "source": []
  },
  {
   "cell_type": "code",
   "execution_count": null,
   "id": "2d4004c8",
   "metadata": {},
   "outputs": [],
   "source": []
  },
  {
   "cell_type": "code",
   "execution_count": null,
   "id": "ab97968b",
   "metadata": {},
   "outputs": [],
   "source": []
  },
  {
   "cell_type": "code",
   "execution_count": null,
   "id": "dcb3e5de",
   "metadata": {},
   "outputs": [],
   "source": []
  }
 ],
 "metadata": {
  "kernelspec": {
   "display_name": "Python 3",
   "language": "python",
   "name": "python3"
  },
  "language_info": {
   "codemirror_mode": {
    "name": "ipython",
    "version": 3
   },
   "file_extension": ".py",
   "mimetype": "text/x-python",
   "name": "python",
   "nbconvert_exporter": "python",
   "pygments_lexer": "ipython3",
   "version": "3.8.8"
  }
 },
 "nbformat": 4,
 "nbformat_minor": 5
}
